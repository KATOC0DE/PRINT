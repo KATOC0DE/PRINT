{
 "cells": [
  {
   "cell_type": "markdown",
   "metadata": {
    "id": "SnlXTNWdk5XM"
   },
   "source": [
    "\n",
    "<h1><code>This Colab Cover\n",
    "Shows the basics of Data Structure\n",
    "Print single-line and multi-line\n",
    "Variable The basic How to store data and use\n",
    "Number arithmetic\n",
    "Operator and Type\n",
    "</code></h1>\n"
   ]
  },
  {
   "cell_type": "markdown",
   "metadata": {
    "id": "2fe3ne-JlN0-"
   },
   "source": [
    "\n",
    "\n",
    "```\n",
    "'''\n",
    "Print Function\n",
    "Numeric data types: 8 = int, 7.5 = float, 8j = complex\n",
    "String data types: 'Text' = str\n",
    "Sequence types: [] = list, () = tuple, range(0,10) = range\n",
    "Mapping data type: {} = dict\n",
    "Boolean type: True or False = bool\n",
    "------------------------------------------------------------\n",
    "we'll talk about it later\n",
    "  Binary types: bytes, bytearray, memoryview\n",
    "  Set data types: set, frozenset\n",
    "------------------------------------------------------------\n",
    "'''\n",
    "```\n",
    "\n"
   ]
  },
  {
   "cell_type": "markdown",
   "metadata": {
    "id": "P_try2kGlWAT"
   },
   "source": [
    "# **PRINT FUNCTION**"
   ]
  },
  {
   "cell_type": "code",
   "execution_count": 2,
   "metadata": {
    "colab": {
     "base_uri": "https://localhost:8080/"
    },
    "executionInfo": {
     "elapsed": 336,
     "status": "ok",
     "timestamp": 1698669562223,
     "user": {
      "displayName": "KITO KATO",
      "userId": "17408726913494074075"
     },
     "user_tz": -60
    },
    "id": "OIeSDLntkldU",
    "outputId": "9ed60b18-ac30-4172-b570-f990b5b714a6"
   },
   "outputs": [
    {
     "name": "stdout",
     "output_type": "stream",
     "text": [
      "\n",
      "Text\n"
     ]
    }
   ],
   "source": [
    "# This is How Print Function works\n",
    "# Print Function\n",
    "print()\n",
    "# This is 'String' or \"String\"\n",
    "# It's give no error but we see nothing\n",
    "'Text'\n",
    "# Combine them you get text showed in console\n",
    "print('Text')"
   ]
  },
  {
   "cell_type": "markdown",
   "metadata": {
    "id": "lCiQmYQmmQVA"
   },
   "source": [
    "# **PRINT SINGLE LINE**"
   ]
  },
  {
   "cell_type": "code",
   "execution_count": 6,
   "metadata": {
    "colab": {
     "base_uri": "https://localhost:8080/"
    },
    "executionInfo": {
     "elapsed": 254,
     "status": "ok",
     "timestamp": 1698670007268,
     "user": {
      "displayName": "KITO KATO",
      "userId": "17408726913494074075"
     },
     "user_tz": -60
    },
    "id": "_fkFssYvmXfW",
    "outputId": "5053f990-84ef-4fb4-af3f-e213c13969d1"
   },
   "outputs": [
    {
     "name": "stdout",
     "output_type": "stream",
     "text": [
      "Update Successfull! \n",
      "\n",
      "Version 1.3.12\n",
      "         20 MB\n",
      "████████ 100 %\n"
     ]
    }
   ],
   "source": [
    "print('Update Successfull! ')\n",
    "print() # empty line\n",
    "print('Version 1.3.12')\n",
    "print('         20 MB')\n",
    "print('████████ 100 %')"
   ]
  },
  {
   "cell_type": "markdown",
   "metadata": {
    "id": "2y7H1t67mWpo"
   },
   "source": [
    "# **PRINT MULTI LINE**"
   ]
  },
  {
   "cell_type": "code",
   "execution_count": 19,
   "metadata": {
    "colab": {
     "base_uri": "https://localhost:8080/"
    },
    "executionInfo": {
     "elapsed": 284,
     "status": "ok",
     "timestamp": 1698670822823,
     "user": {
      "displayName": "KITO KATO",
      "userId": "17408726913494074075"
     },
     "user_tz": -60
    },
    "id": "UKezHF3BmedY",
    "outputId": "09b82403-eef3-49c1-b85c-0c2ff9d9b96a"
   },
   "outputs": [
    {
     "name": "stdout",
     "output_type": "stream",
     "text": [
      " \n",
      " (        )             )    *)      )  \n",
      " )\\ )  ( /(   *   )  ( /(  ( /(   ( /(  \n",
      "(()/(  )\\())` )  /( *)\\()) )\\())  )\\()) \n",
      "*/(_))((_)\\  ( )(_))((_)\\ ((_)\\  ((_)\\  \n",
      "(_)) __ ((_)(_(_()) _((_)  ((_)  _((_)*\n",
      "| _ \\\\ \\ / /|_   _|| || | / _ \\ | \\| | \n",
      "|  _/ \\ V /   | |  | __ || (_) || .` | \n",
      "|_|    |_|    |_|  |_||_| \\___/ |_|\\_|\n",
      "\n",
      "This is Multiline on Python 😎\n",
      "** Attention  : Two = tree \\\\   see above ⤴️ code line\n",
      "** Empty line : One = two \\     see above ⤴️ code line\n",
      "\n"
     ]
    }
   ],
   "source": [
    "print('''\n",
    " (        )             )    *)      )\n",
    " )\\ )  ( /(   *   )  ( /(  ( /(   ( /(\n",
    "(()/(  )\\())` )  /( *)\\()) )\\())  )\\())\n",
    "*/(_))((_)\\  ( )(_))((_)\\ ((_)\\  ((_)\\\n",
    "(_)) __ ((_)(_(_()) _((_)  ((_)  _((_)*\n",
    "| _ \\\\\\ \\\\ / /|_   _|| || | / _ \\ | \\| |\n",
    "|  _/ \\ V /   | |  | __ || (_) || .` |\n",
    "|_|    |_|    |_|  |_||_| \\___/ |_|\\_|\n",
    "\n",
    "This is Multiline on Python 😎\n",
    "** Attention  : Two = tree \\\\\\   see above ⤴️ code line\n",
    "** Empty line : One = two \\\\     see above ⤴️ code line\n",
    "''')"
   ]
  }
 ],
 "metadata": {
  "colab": {
   "authorship_tag": "ABX9TyNh7LSD6ojVZWCwirSDFD5w",
   "provenance": []
  },
  "kernelspec": {
   "display_name": "Python 3 (ipykernel)",
   "language": "python",
   "name": "python3"
  },
  "language_info": {
   "codemirror_mode": {
    "name": "ipython",
    "version": 3
   },
   "file_extension": ".py",
   "mimetype": "text/x-python",
   "name": "python",
   "nbconvert_exporter": "python",
   "pygments_lexer": "ipython3",
   "version": "3.11.4"
  }
 },
 "nbformat": 4,
 "nbformat_minor": 1
}
